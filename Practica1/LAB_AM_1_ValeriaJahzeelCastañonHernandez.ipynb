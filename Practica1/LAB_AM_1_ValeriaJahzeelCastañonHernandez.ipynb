{
 "cells": [
  {
   "cell_type": "markdown",
   "metadata": {},
   "source": [
    "# Practica 1. \n",
    "## Desarrollo\n",
    "1. Obtener el conjunto de pruebas (datos) de iris del repositorio oficial en la liga siguiente:\n",
    "https://archive.ics.uci.edu/dataset/53/iris\n",
    "2. Desplegar la información de forma gráfica para plantear posibles hipótesis con respecto a\n",
    "los datos observados.\n",
    "3. Calcular de forma inicial, media, varianza, desviación estándar, observar la dispersión de\n",
    "los datos.\n",
    "4. Implementar las herramientas correlación de pearson para realizar una prueba de\n",
    "hipótesis simple.\n",
    "5. Implementar la herramienta de ANOVA para realizar una prueba de hipótesis múltiple."
   ]
  },
  {
   "cell_type": "code",
   "execution_count": 86,
   "metadata": {},
   "outputs": [],
   "source": [
    "# ------------------- IMPORTACION DE LIBRERIAS -------------------- \n",
    "\n",
    "import numpy as np\n",
    "import matplotlib.pyplot as plt\n",
    "from PIL import Image\n",
    "import cv2\n",
    "import random"
   ]
  },
  {
   "cell_type": "code",
   "execution_count": 87,
   "metadata": {},
   "outputs": [],
   "source": [
    "# ---------------- LEE EL ARCHIVO DE IRIS -------------------\n",
    "\n",
    "def read(name):\n",
    "     # Abre el archivo en modo de lectura ('r')\n",
    "     with open(name, 'r') as file:\n",
    "     # Lee el contenido completo del archivo y lo almacena en una lista de líneas\n",
    "          lines = file.readlines()\n",
    "\n",
    "     # Inicializa listas para almacenar los datos separados\n",
    "     sepal_length = []\n",
    "     sepal_width = []\n",
    "     petal_length = []\n",
    "     petal_width = []\n",
    "     iris_class = []\n",
    "\n",
    "     # Recorre las líneas del archivo\n",
    "     for line in lines:\n",
    "     # Divide cada línea en campos separados por comas\n",
    "          fields = line.strip().split(',')\n",
    "          \n",
    "          # Verifica que la línea tenga al menos 5 campos\n",
    "          if len(fields) >= 5:\n",
    "               # Extrae los valores de cada campo y los almacena en las listas correspondientes\n",
    "               sLength, sWidth, pLength, pWidth, fName = fields[:5]\n",
    "               sepal_length.append(float(sLength))\n",
    "               sepal_width.append(float(sWidth))\n",
    "               petal_length.append(float(pLength))\n",
    "               petal_width.append(float(pWidth))\n",
    "               iris_class.append(fName)\n",
    "\n",
    "     # Ahora, las listas contienen los datos separados en variables individuales\n",
    "     # Puedes acceder a estos datos a través de las listas, por ejemplo:\n",
    "     print(\"Longitud de sépalo de la primera flor:\", iris_class)\n",
    "     \n",
    "     return sepal_length, sepal_width, petal_length, petal_width, iris_class\n",
    "\n"
   ]
  },
  {
   "cell_type": "code",
   "execution_count": 88,
   "metadata": {},
   "outputs": [],
   "source": [
    "# ---------------- CUENTA CUANTOS DATOS HAY DE CADA TIPO DE FLOR --------------------\n",
    "def counter(fName):\n",
    "     tresTipos = np.zeros((3,1)) # setosa, versicolor, virginica \n",
    "     \n",
    "     for i in range(len(fName)):\n",
    "          if fName[i] == 'Iris-setosa':\n",
    "               tresTipos[0] += 1\n",
    "          elif fName[i] == 'Iris-versicolor':\n",
    "               tresTipos[1] += 1\n",
    "          else:\n",
    "               tresTipos[2] += 1\n",
    "\n",
    "     return tresTipos"
   ]
  },
  {
   "cell_type": "code",
   "execution_count": 89,
   "metadata": {},
   "outputs": [
    {
     "name": "stdout",
     "output_type": "stream",
     "text": [
      "Longitud de sépalo de la primera flor: ['Iris-setosa', 'Iris-setosa', 'Iris-setosa', 'Iris-setosa', 'Iris-setosa', 'Iris-setosa', 'Iris-setosa', 'Iris-setosa', 'Iris-setosa', 'Iris-setosa', 'Iris-setosa', 'Iris-setosa', 'Iris-setosa', 'Iris-setosa', 'Iris-setosa', 'Iris-setosa', 'Iris-setosa', 'Iris-setosa', 'Iris-setosa', 'Iris-setosa', 'Iris-setosa', 'Iris-setosa', 'Iris-setosa', 'Iris-setosa', 'Iris-setosa', 'Iris-setosa', 'Iris-setosa', 'Iris-setosa', 'Iris-setosa', 'Iris-setosa', 'Iris-setosa', 'Iris-setosa', 'Iris-setosa', 'Iris-setosa', 'Iris-setosa', 'Iris-setosa', 'Iris-setosa', 'Iris-setosa', 'Iris-setosa', 'Iris-setosa', 'Iris-setosa', 'Iris-setosa', 'Iris-setosa', 'Iris-setosa', 'Iris-setosa', 'Iris-setosa', 'Iris-setosa', 'Iris-setosa', 'Iris-setosa', 'Iris-setosa', 'Iris-versicolor', 'Iris-versicolor', 'Iris-versicolor', 'Iris-versicolor', 'Iris-versicolor', 'Iris-versicolor', 'Iris-versicolor', 'Iris-versicolor', 'Iris-versicolor', 'Iris-versicolor', 'Iris-versicolor', 'Iris-versicolor', 'Iris-versicolor', 'Iris-versicolor', 'Iris-versicolor', 'Iris-versicolor', 'Iris-versicolor', 'Iris-versicolor', 'Iris-versicolor', 'Iris-versicolor', 'Iris-versicolor', 'Iris-versicolor', 'Iris-versicolor', 'Iris-versicolor', 'Iris-versicolor', 'Iris-versicolor', 'Iris-versicolor', 'Iris-versicolor', 'Iris-versicolor', 'Iris-versicolor', 'Iris-versicolor', 'Iris-versicolor', 'Iris-versicolor', 'Iris-versicolor', 'Iris-versicolor', 'Iris-versicolor', 'Iris-versicolor', 'Iris-versicolor', 'Iris-versicolor', 'Iris-versicolor', 'Iris-versicolor', 'Iris-versicolor', 'Iris-versicolor', 'Iris-versicolor', 'Iris-versicolor', 'Iris-versicolor', 'Iris-versicolor', 'Iris-versicolor', 'Iris-versicolor', 'Iris-versicolor', 'Iris-virginica', 'Iris-virginica', 'Iris-virginica', 'Iris-virginica', 'Iris-virginica', 'Iris-virginica', 'Iris-virginica', 'Iris-virginica', 'Iris-virginica', 'Iris-virginica', 'Iris-virginica', 'Iris-virginica', 'Iris-virginica', 'Iris-virginica', 'Iris-virginica', 'Iris-virginica', 'Iris-virginica', 'Iris-virginica', 'Iris-virginica', 'Iris-virginica', 'Iris-virginica', 'Iris-virginica', 'Iris-virginica', 'Iris-virginica', 'Iris-virginica', 'Iris-virginica', 'Iris-virginica', 'Iris-virginica', 'Iris-virginica', 'Iris-virginica', 'Iris-virginica', 'Iris-virginica', 'Iris-virginica', 'Iris-virginica', 'Iris-virginica', 'Iris-virginica', 'Iris-virginica', 'Iris-virginica', 'Iris-virginica', 'Iris-virginica', 'Iris-virginica', 'Iris-virginica', 'Iris-virginica', 'Iris-virginica', 'Iris-virginica', 'Iris-virginica', 'Iris-virginica', 'Iris-virginica', 'Iris-virginica', 'Iris-virginica']\n",
      "150\n",
      "[[50.]\n",
      " [50.]\n",
      " [50.]]\n"
     ]
    }
   ],
   "source": [
    "fileName = \"iris/iris.data\"   # nombre del archivo que se quiere leer\n",
    "sLength, sWidth, pLength, pWidth, fName = read(fileName)    # valores separados del archivo iris\n",
    "cantidad = counter(fName)     # cuenta el numero de flores en cada categoria\n",
    "\n",
    "print(len(fName)) # borrar \n",
    "print(cantidad) # borrar\n",
    "\n"
   ]
  }
 ],
 "metadata": {
  "kernelspec": {
   "display_name": "Python 3",
   "language": "python",
   "name": "python3"
  },
  "language_info": {
   "codemirror_mode": {
    "name": "ipython",
    "version": 3
   },
   "file_extension": ".py",
   "mimetype": "text/x-python",
   "name": "python",
   "nbconvert_exporter": "python",
   "pygments_lexer": "ipython3",
   "version": "3.11.1"
  },
  "orig_nbformat": 4
 },
 "nbformat": 4,
 "nbformat_minor": 2
}
